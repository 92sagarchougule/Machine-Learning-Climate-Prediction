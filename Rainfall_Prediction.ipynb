{
 "cells": [
  {
   "cell_type": "code",
   "execution_count": 74,
   "metadata": {},
   "outputs": [],
   "source": [
    "import pandas as pd\n",
    "import numpy as np\n",
    "import matplotlib.pyplot as plt\n",
    "%matplotlib inline"
   ]
  },
  {
   "cell_type": "code",
   "execution_count": 75,
   "metadata": {},
   "outputs": [
    {
     "data": {
      "text/html": [
       "<div>\n",
       "<style scoped>\n",
       "    .dataframe tbody tr th:only-of-type {\n",
       "        vertical-align: middle;\n",
       "    }\n",
       "\n",
       "    .dataframe tbody tr th {\n",
       "        vertical-align: top;\n",
       "    }\n",
       "\n",
       "    .dataframe thead th {\n",
       "        text-align: right;\n",
       "    }\n",
       "</style>\n",
       "<table border=\"1\" class=\"dataframe\">\n",
       "  <thead>\n",
       "    <tr style=\"text-align: right;\">\n",
       "      <th></th>\n",
       "      <th>INDEX</th>\n",
       "      <th>YEAR</th>\n",
       "      <th>MONTH</th>\n",
       "      <th>DATE</th>\n",
       "      <th>MAXIMUM TEMP.</th>\n",
       "      <th>MINIMUM TEMP.</th>\n",
       "      <th>AVARAGE WIND SPEED</th>\n",
       "      <th>RANFALL</th>\n",
       "    </tr>\n",
       "  </thead>\n",
       "  <tbody>\n",
       "    <tr>\n",
       "      <th>0</th>\n",
       "      <td>43058</td>\n",
       "      <td>1988</td>\n",
       "      <td>1</td>\n",
       "      <td>1</td>\n",
       "      <td>31.9</td>\n",
       "      <td>18.0</td>\n",
       "      <td>7.0</td>\n",
       "      <td>0.0</td>\n",
       "    </tr>\n",
       "    <tr>\n",
       "      <th>1</th>\n",
       "      <td>43058</td>\n",
       "      <td>1988</td>\n",
       "      <td>1</td>\n",
       "      <td>2</td>\n",
       "      <td>30.6</td>\n",
       "      <td>18.1</td>\n",
       "      <td>7.0</td>\n",
       "      <td>0.0</td>\n",
       "    </tr>\n",
       "    <tr>\n",
       "      <th>2</th>\n",
       "      <td>43058</td>\n",
       "      <td>1988</td>\n",
       "      <td>1</td>\n",
       "      <td>3</td>\n",
       "      <td>32.0</td>\n",
       "      <td>18.8</td>\n",
       "      <td>7.0</td>\n",
       "      <td>0.0</td>\n",
       "    </tr>\n",
       "    <tr>\n",
       "      <th>3</th>\n",
       "      <td>43058</td>\n",
       "      <td>1988</td>\n",
       "      <td>1</td>\n",
       "      <td>4</td>\n",
       "      <td>32.0</td>\n",
       "      <td>19.4</td>\n",
       "      <td>8.0</td>\n",
       "      <td>0.0</td>\n",
       "    </tr>\n",
       "    <tr>\n",
       "      <th>4</th>\n",
       "      <td>43058</td>\n",
       "      <td>1988</td>\n",
       "      <td>1</td>\n",
       "      <td>5</td>\n",
       "      <td>32.5</td>\n",
       "      <td>18.9</td>\n",
       "      <td>9.0</td>\n",
       "      <td>0.0</td>\n",
       "    </tr>\n",
       "  </tbody>\n",
       "</table>\n",
       "</div>"
      ],
      "text/plain": [
       "   INDEX  YEAR  MONTH  DATE  MAXIMUM TEMP.  MINIMUM TEMP.  AVARAGE WIND SPEED  \\\n",
       "0  43058  1988      1     1           31.9           18.0                 7.0   \n",
       "1  43058  1988      1     2           30.6           18.1                 7.0   \n",
       "2  43058  1988      1     3           32.0           18.8                 7.0   \n",
       "3  43058  1988      1     4           32.0           19.4                 8.0   \n",
       "4  43058  1988      1     5           32.5           18.9                 9.0   \n",
       "\n",
       "   RANFALL  \n",
       "0      0.0  \n",
       "1      0.0  \n",
       "2      0.0  \n",
       "3      0.0  \n",
       "4      0.0  "
      ]
     },
     "execution_count": 75,
     "metadata": {},
     "output_type": "execute_result"
    }
   ],
   "source": [
    "df = pd.read_excel('Raigad.xlsx','1988-97')\n",
    "df.head()"
   ]
  },
  {
   "cell_type": "code",
   "execution_count": 90,
   "metadata": {},
   "outputs": [
    {
     "data": {
      "text/html": [
       "<div>\n",
       "<style scoped>\n",
       "    .dataframe tbody tr th:only-of-type {\n",
       "        vertical-align: middle;\n",
       "    }\n",
       "\n",
       "    .dataframe tbody tr th {\n",
       "        vertical-align: top;\n",
       "    }\n",
       "\n",
       "    .dataframe thead th {\n",
       "        text-align: right;\n",
       "    }\n",
       "</style>\n",
       "<table border=\"1\" class=\"dataframe\">\n",
       "  <thead>\n",
       "    <tr style=\"text-align: right;\">\n",
       "      <th></th>\n",
       "      <th>INDEX</th>\n",
       "      <th>YEAR</th>\n",
       "      <th>MONTH</th>\n",
       "      <th>DATE</th>\n",
       "      <th>MAXIMUM TEMP.</th>\n",
       "      <th>MINIMUM TEMP.</th>\n",
       "      <th>AVARAGE WIND SPEED</th>\n",
       "      <th>RANFALL</th>\n",
       "    </tr>\n",
       "  </thead>\n",
       "  <tbody>\n",
       "    <tr>\n",
       "      <th>0</th>\n",
       "      <td>43058.0</td>\n",
       "      <td>2002.768087</td>\n",
       "      <td>6.514054</td>\n",
       "      <td>15.724424</td>\n",
       "      <td>31.308305</td>\n",
       "      <td>22.837032</td>\n",
       "      <td>12.833261</td>\n",
       "      <td>6.025234</td>\n",
       "    </tr>\n",
       "  </tbody>\n",
       "</table>\n",
       "</div>"
      ],
      "text/plain": [
       "     INDEX         YEAR     MONTH       DATE  MAXIMUM TEMP.  MINIMUM TEMP.  \\\n",
       "0  43058.0  2002.768087  6.514054  15.724424      31.308305      22.837032   \n",
       "\n",
       "   AVARAGE WIND SPEED   RANFALL  \n",
       "0           12.833261  6.025234  "
      ]
     },
     "execution_count": 90,
     "metadata": {},
     "output_type": "execute_result"
    }
   ],
   "source": [
    "df.mean()# Average Data of 1988-97\n",
    "df.T"
   ]
  },
  {
   "cell_type": "code",
   "execution_count": 91,
   "metadata": {},
   "outputs": [
    {
     "data": {
      "text/html": [
       "<div>\n",
       "<style scoped>\n",
       "    .dataframe tbody tr th:only-of-type {\n",
       "        vertical-align: middle;\n",
       "    }\n",
       "\n",
       "    .dataframe tbody tr th {\n",
       "        vertical-align: top;\n",
       "    }\n",
       "\n",
       "    .dataframe thead th {\n",
       "        text-align: right;\n",
       "    }\n",
       "</style>\n",
       "<table border=\"1\" class=\"dataframe\">\n",
       "  <thead>\n",
       "    <tr style=\"text-align: right;\">\n",
       "      <th></th>\n",
       "      <th>INDEX</th>\n",
       "      <th>YEAR</th>\n",
       "      <th>MONTH</th>\n",
       "      <th>DATE</th>\n",
       "      <th>MAXIMUM TEMP.</th>\n",
       "      <th>MINIMUM TEMP.</th>\n",
       "      <th>AVARAGE WIND SPEED</th>\n",
       "      <th>RANFALL</th>\n",
       "    </tr>\n",
       "  </thead>\n",
       "  <tbody>\n",
       "    <tr>\n",
       "      <th>0</th>\n",
       "      <td>43058</td>\n",
       "      <td>1998</td>\n",
       "      <td>1</td>\n",
       "      <td>1</td>\n",
       "      <td>27.9</td>\n",
       "      <td>20.4</td>\n",
       "      <td>7.0</td>\n",
       "      <td>0.0</td>\n",
       "    </tr>\n",
       "    <tr>\n",
       "      <th>1</th>\n",
       "      <td>43058</td>\n",
       "      <td>1998</td>\n",
       "      <td>1</td>\n",
       "      <td>2</td>\n",
       "      <td>32.1</td>\n",
       "      <td>20.7</td>\n",
       "      <td>5.0</td>\n",
       "      <td>0.0</td>\n",
       "    </tr>\n",
       "    <tr>\n",
       "      <th>2</th>\n",
       "      <td>43058</td>\n",
       "      <td>1998</td>\n",
       "      <td>1</td>\n",
       "      <td>3</td>\n",
       "      <td>29.1</td>\n",
       "      <td>20.5</td>\n",
       "      <td>0.0</td>\n",
       "      <td>0.0</td>\n",
       "    </tr>\n",
       "    <tr>\n",
       "      <th>3</th>\n",
       "      <td>43058</td>\n",
       "      <td>1998</td>\n",
       "      <td>1</td>\n",
       "      <td>4</td>\n",
       "      <td>30.3</td>\n",
       "      <td>21.4</td>\n",
       "      <td>5.0</td>\n",
       "      <td>0.0</td>\n",
       "    </tr>\n",
       "    <tr>\n",
       "      <th>4</th>\n",
       "      <td>43058</td>\n",
       "      <td>1998</td>\n",
       "      <td>1</td>\n",
       "      <td>5</td>\n",
       "      <td>34.7</td>\n",
       "      <td>21.4</td>\n",
       "      <td>0.0</td>\n",
       "      <td>0.0</td>\n",
       "    </tr>\n",
       "  </tbody>\n",
       "</table>\n",
       "</div>"
      ],
      "text/plain": [
       "   INDEX  YEAR  MONTH  DATE  MAXIMUM TEMP.  MINIMUM TEMP.  AVARAGE WIND SPEED  \\\n",
       "0  43058  1998      1     1           27.9           20.4                 7.0   \n",
       "1  43058  1998      1     2           32.1           20.7                 5.0   \n",
       "2  43058  1998      1     3           29.1           20.5                 0.0   \n",
       "3  43058  1998      1     4           30.3           21.4                 5.0   \n",
       "4  43058  1998      1     5           34.7           21.4                 0.0   \n",
       "\n",
       "   RANFALL  \n",
       "0      0.0  \n",
       "1      0.0  \n",
       "2      0.0  \n",
       "3      0.0  \n",
       "4      0.0  "
      ]
     },
     "execution_count": 91,
     "metadata": {},
     "output_type": "execute_result"
    }
   ],
   "source": [
    "df2 = pd.read_excel('Raigad.xlsx','98-08')\n",
    "df2.head()"
   ]
  },
  {
   "cell_type": "code",
   "execution_count": 92,
   "metadata": {},
   "outputs": [
    {
     "data": {
      "text/plain": [
       "INDEX                 43058.000000\n",
       "YEAR                   2002.476217\n",
       "MONTH                     6.499723\n",
       "DATE                     15.720409\n",
       "MAXIMUM TEMP.            31.527268\n",
       "MINIMUM TEMP.            22.971409\n",
       "AVARAGE WIND SPEED       12.574260\n",
       "RANFALL                   6.308229\n",
       "dtype: float64"
      ]
     },
     "execution_count": 92,
     "metadata": {},
     "output_type": "execute_result"
    }
   ],
   "source": [
    "df2.mean()# Average Data of 1998-08"
   ]
  },
  {
   "cell_type": "code",
   "execution_count": 93,
   "metadata": {},
   "outputs": [
    {
     "data": {
      "text/html": [
       "<div>\n",
       "<style scoped>\n",
       "    .dataframe tbody tr th:only-of-type {\n",
       "        vertical-align: middle;\n",
       "    }\n",
       "\n",
       "    .dataframe tbody tr th {\n",
       "        vertical-align: top;\n",
       "    }\n",
       "\n",
       "    .dataframe thead th {\n",
       "        text-align: right;\n",
       "    }\n",
       "</style>\n",
       "<table border=\"1\" class=\"dataframe\">\n",
       "  <thead>\n",
       "    <tr style=\"text-align: right;\">\n",
       "      <th></th>\n",
       "      <th>INDEX</th>\n",
       "      <th>YEAR</th>\n",
       "      <th>MONTH</th>\n",
       "      <th>DATE</th>\n",
       "      <th>MAXIMUM TEMP.</th>\n",
       "      <th>MINIMUM TEMP.</th>\n",
       "      <th>AVARAGE WIND SPEED</th>\n",
       "      <th>RANFALL</th>\n",
       "    </tr>\n",
       "  </thead>\n",
       "  <tbody>\n",
       "    <tr>\n",
       "      <th>0</th>\n",
       "      <td>43058</td>\n",
       "      <td>2008</td>\n",
       "      <td>1</td>\n",
       "      <td>1</td>\n",
       "      <td>28.1</td>\n",
       "      <td>17.4</td>\n",
       "      <td>7.0</td>\n",
       "      <td>0.0</td>\n",
       "    </tr>\n",
       "    <tr>\n",
       "      <th>1</th>\n",
       "      <td>43058</td>\n",
       "      <td>2008</td>\n",
       "      <td>1</td>\n",
       "      <td>2</td>\n",
       "      <td>28.1</td>\n",
       "      <td>15.8</td>\n",
       "      <td>8.0</td>\n",
       "      <td>0.0</td>\n",
       "    </tr>\n",
       "    <tr>\n",
       "      <th>2</th>\n",
       "      <td>43058</td>\n",
       "      <td>2008</td>\n",
       "      <td>1</td>\n",
       "      <td>3</td>\n",
       "      <td>28.1</td>\n",
       "      <td>16.4</td>\n",
       "      <td>8.0</td>\n",
       "      <td>0.0</td>\n",
       "    </tr>\n",
       "    <tr>\n",
       "      <th>3</th>\n",
       "      <td>43058</td>\n",
       "      <td>2008</td>\n",
       "      <td>1</td>\n",
       "      <td>4</td>\n",
       "      <td>27.3</td>\n",
       "      <td>16.3</td>\n",
       "      <td>7.0</td>\n",
       "      <td>0.0</td>\n",
       "    </tr>\n",
       "    <tr>\n",
       "      <th>4</th>\n",
       "      <td>43058</td>\n",
       "      <td>2008</td>\n",
       "      <td>1</td>\n",
       "      <td>5</td>\n",
       "      <td>27.8</td>\n",
       "      <td>16.5</td>\n",
       "      <td>6.0</td>\n",
       "      <td>0.0</td>\n",
       "    </tr>\n",
       "  </tbody>\n",
       "</table>\n",
       "</div>"
      ],
      "text/plain": [
       "   INDEX  YEAR  MONTH  DATE  MAXIMUM TEMP.  MINIMUM TEMP.  AVARAGE WIND SPEED  \\\n",
       "0  43058  2008      1     1           28.1           17.4                 7.0   \n",
       "1  43058  2008      1     2           28.1           15.8                 8.0   \n",
       "2  43058  2008      1     3           28.1           16.4                 8.0   \n",
       "3  43058  2008      1     4           27.3           16.3                 7.0   \n",
       "4  43058  2008      1     5           27.8           16.5                 6.0   \n",
       "\n",
       "   RANFALL  \n",
       "0      0.0  \n",
       "1      0.0  \n",
       "2      0.0  \n",
       "3      0.0  \n",
       "4      0.0  "
      ]
     },
     "execution_count": 93,
     "metadata": {},
     "output_type": "execute_result"
    }
   ],
   "source": [
    "df1 = pd.read_excel('Raigad.xlsx','08-18')\n",
    "df1.head()"
   ]
  },
  {
   "cell_type": "code",
   "execution_count": 94,
   "metadata": {},
   "outputs": [
    {
     "data": {
      "text/plain": [
       "INDEX                 43058.000000\n",
       "YEAR                   2013.328454\n",
       "MONTH                     6.520128\n",
       "DATE                     15.721409\n",
       "MAXIMUM TEMP.            31.319629\n",
       "MINIMUM TEMP.            22.968167\n",
       "AVARAGE WIND SPEED       12.677950\n",
       "RANFALL                   5.587981\n",
       "dtype: float64"
      ]
     },
     "execution_count": 94,
     "metadata": {},
     "output_type": "execute_result"
    }
   ],
   "source": [
    "df1.mean()# Average Data of 1908-18"
   ]
  },
  {
   "cell_type": "code",
   "execution_count": 95,
   "metadata": {},
   "outputs": [
    {
     "data": {
      "text/plain": [
       "0                    NaN\n",
       "AVARAGE WIND SPEED   NaN\n",
       "DATE                 NaN\n",
       "INDEX                NaN\n",
       "MAXIMUM TEMP.        NaN\n",
       "MINIMUM TEMP.        NaN\n",
       "MONTH                NaN\n",
       "RANFALL              NaN\n",
       "YEAR                 NaN\n",
       "dtype: float64"
      ]
     },
     "execution_count": 95,
     "metadata": {},
     "output_type": "execute_result"
    }
   ],
   "source": [
    "a = df.mean()+df2.mean()+df1.mean()   # Addition of 3 Decades\n",
    "a.T"
   ]
  },
  {
   "cell_type": "code",
   "execution_count": 96,
   "metadata": {},
   "outputs": [
    {
     "data": {
      "text/plain": [
       "0                    NaN\n",
       "AVARAGE WIND SPEED   NaN\n",
       "DATE                 NaN\n",
       "INDEX                NaN\n",
       "MAXIMUM TEMP.        NaN\n",
       "MINIMUM TEMP.        NaN\n",
       "MONTH                NaN\n",
       "RANFALL              NaN\n",
       "YEAR                 NaN\n",
       "dtype: float64"
      ]
     },
     "execution_count": 96,
     "metadata": {},
     "output_type": "execute_result"
    }
   ],
   "source": [
    "ab = a/3  # Average of 3 years data\n",
    "ab"
   ]
  },
  {
   "cell_type": "code",
   "execution_count": 97,
   "metadata": {},
   "outputs": [
    {
     "data": {
      "text/html": [
       "<div>\n",
       "<style scoped>\n",
       "    .dataframe tbody tr th:only-of-type {\n",
       "        vertical-align: middle;\n",
       "    }\n",
       "\n",
       "    .dataframe tbody tr th {\n",
       "        vertical-align: top;\n",
       "    }\n",
       "\n",
       "    .dataframe thead th {\n",
       "        text-align: right;\n",
       "    }\n",
       "</style>\n",
       "<table border=\"1\" class=\"dataframe\">\n",
       "  <thead>\n",
       "    <tr style=\"text-align: right;\">\n",
       "      <th></th>\n",
       "      <th>0</th>\n",
       "      <th>AVARAGE WIND SPEED</th>\n",
       "      <th>DATE</th>\n",
       "      <th>INDEX</th>\n",
       "      <th>MAXIMUM TEMP.</th>\n",
       "      <th>MINIMUM TEMP.</th>\n",
       "      <th>MONTH</th>\n",
       "      <th>RANFALL</th>\n",
       "      <th>YEAR</th>\n",
       "    </tr>\n",
       "  </thead>\n",
       "  <tbody>\n",
       "    <tr>\n",
       "      <th>0</th>\n",
       "      <td>NaN</td>\n",
       "      <td>NaN</td>\n",
       "      <td>NaN</td>\n",
       "      <td>NaN</td>\n",
       "      <td>NaN</td>\n",
       "      <td>NaN</td>\n",
       "      <td>NaN</td>\n",
       "      <td>NaN</td>\n",
       "      <td>NaN</td>\n",
       "    </tr>\n",
       "  </tbody>\n",
       "</table>\n",
       "</div>"
      ],
      "text/plain": [
       "    0  AVARAGE WIND SPEED  DATE  INDEX  MAXIMUM TEMP.  MINIMUM TEMP.  MONTH  \\\n",
       "0 NaN                 NaN   NaN    NaN            NaN            NaN    NaN   \n",
       "\n",
       "   RANFALL  YEAR  \n",
       "0      NaN   NaN  "
      ]
     },
     "execution_count": 97,
     "metadata": {},
     "output_type": "execute_result"
    }
   ],
   "source": [
    "df = pd.DataFrame(ab)\n",
    "a = df.T\n",
    "a"
   ]
  },
  {
   "cell_type": "code",
   "execution_count": null,
   "metadata": {},
   "outputs": [],
   "source": []
  },
  {
   "cell_type": "code",
   "execution_count": null,
   "metadata": {},
   "outputs": [],
   "source": []
  }
 ],
 "metadata": {
  "kernelspec": {
   "display_name": "Python 3",
   "language": "python",
   "name": "python3"
  },
  "language_info": {
   "codemirror_mode": {
    "name": "ipython",
    "version": 3
   },
   "file_extension": ".py",
   "mimetype": "text/x-python",
   "name": "python",
   "nbconvert_exporter": "python",
   "pygments_lexer": "ipython3",
   "version": "3.7.6"
  }
 },
 "nbformat": 4,
 "nbformat_minor": 4
}

{
 "cells": [
  {
   "cell_type": "code",
   "execution_count": 148,
   "metadata": {},
   "outputs": [],
   "source": [
    "import pandas as pd\n",
    "import numpy as np\n",
    "import matplotlib.pyplot as plt\n",
    "from sklearn import linear_model\n",
    "%matplotlib inline"
   ]
  },
  {
   "cell_type": "code",
   "execution_count": 149,
   "metadata": {},
   "outputs": [
    {
     "data": {
      "text/html": [
       "<div>\n",
       "<style scoped>\n",
       "    .dataframe tbody tr th:only-of-type {\n",
       "        vertical-align: middle;\n",
       "    }\n",
       "\n",
       "    .dataframe tbody tr th {\n",
       "        vertical-align: top;\n",
       "    }\n",
       "\n",
       "    .dataframe thead th {\n",
       "        text-align: right;\n",
       "    }\n",
       "</style>\n",
       "<table border=\"1\" class=\"dataframe\">\n",
       "  <thead>\n",
       "    <tr style=\"text-align: right;\">\n",
       "      <th></th>\n",
       "      <th>YEAR</th>\n",
       "      <th>MAXIMUM_TEMP</th>\n",
       "      <th>MINIMUM_TEMP</th>\n",
       "      <th>AVERAGE_WIND_SPEED</th>\n",
       "      <th>PRECIPITATION</th>\n",
       "    </tr>\n",
       "  </thead>\n",
       "  <tbody>\n",
       "    <tr>\n",
       "      <th>0</th>\n",
       "      <td>1988</td>\n",
       "      <td>31.460693</td>\n",
       "      <td>22.700719</td>\n",
       "      <td>4.590164</td>\n",
       "      <td>7.579264</td>\n",
       "    </tr>\n",
       "    <tr>\n",
       "      <th>1</th>\n",
       "      <td>1989</td>\n",
       "      <td>31.464715</td>\n",
       "      <td>22.689713</td>\n",
       "      <td>4.408219</td>\n",
       "      <td>7.609810</td>\n",
       "    </tr>\n",
       "    <tr>\n",
       "      <th>2</th>\n",
       "      <td>1990</td>\n",
       "      <td>31.463949</td>\n",
       "      <td>22.552641</td>\n",
       "      <td>7.481648</td>\n",
       "      <td>7.501702</td>\n",
       "    </tr>\n",
       "    <tr>\n",
       "      <th>3</th>\n",
       "      <td>1991</td>\n",
       "      <td>31.634279</td>\n",
       "      <td>22.667731</td>\n",
       "      <td>4.175342</td>\n",
       "      <td>7.496590</td>\n",
       "    </tr>\n",
       "    <tr>\n",
       "      <th>4</th>\n",
       "      <td>1992</td>\n",
       "      <td>31.467002</td>\n",
       "      <td>22.640557</td>\n",
       "      <td>7.167815</td>\n",
       "      <td>7.489201</td>\n",
       "    </tr>\n",
       "    <tr>\n",
       "      <th>5</th>\n",
       "      <td>1993</td>\n",
       "      <td>31.469669</td>\n",
       "      <td>21.870588</td>\n",
       "      <td>9.597917</td>\n",
       "      <td>7.480943</td>\n",
       "    </tr>\n",
       "    <tr>\n",
       "      <th>6</th>\n",
       "      <td>1995</td>\n",
       "      <td>31.470346</td>\n",
       "      <td>22.625078</td>\n",
       "      <td>9.515848</td>\n",
       "      <td>7.468431</td>\n",
       "    </tr>\n",
       "    <tr>\n",
       "      <th>7</th>\n",
       "      <td>1996</td>\n",
       "      <td>31.476824</td>\n",
       "      <td>22.606068</td>\n",
       "      <td>9.397327</td>\n",
       "      <td>7.499902</td>\n",
       "    </tr>\n",
       "    <tr>\n",
       "      <th>8</th>\n",
       "      <td>1997</td>\n",
       "      <td>32.542857</td>\n",
       "      <td>22.737662</td>\n",
       "      <td>6.644737</td>\n",
       "      <td>7.700000</td>\n",
       "    </tr>\n",
       "    <tr>\n",
       "      <th>9</th>\n",
       "      <td>1998</td>\n",
       "      <td>31.552318</td>\n",
       "      <td>22.320668</td>\n",
       "      <td>6.273826</td>\n",
       "      <td>8.205868</td>\n",
       "    </tr>\n",
       "    <tr>\n",
       "      <th>10</th>\n",
       "      <td>1999</td>\n",
       "      <td>31.890141</td>\n",
       "      <td>21.066901</td>\n",
       "      <td>3.161972</td>\n",
       "      <td>7.610000</td>\n",
       "    </tr>\n",
       "    <tr>\n",
       "      <th>11</th>\n",
       "      <td>2000</td>\n",
       "      <td>31.564544</td>\n",
       "      <td>22.561207</td>\n",
       "      <td>8.293395</td>\n",
       "      <td>7.923186</td>\n",
       "    </tr>\n",
       "    <tr>\n",
       "      <th>12</th>\n",
       "      <td>2001</td>\n",
       "      <td>31.484076</td>\n",
       "      <td>22.548342</td>\n",
       "      <td>9.040368</td>\n",
       "      <td>7.561833</td>\n",
       "    </tr>\n",
       "    <tr>\n",
       "      <th>13</th>\n",
       "      <td>2002</td>\n",
       "      <td>31.490311</td>\n",
       "      <td>22.539741</td>\n",
       "      <td>8.953375</td>\n",
       "      <td>7.546101</td>\n",
       "    </tr>\n",
       "    <tr>\n",
       "      <th>14</th>\n",
       "      <td>2003</td>\n",
       "      <td>31.499607</td>\n",
       "      <td>22.531091</td>\n",
       "      <td>8.867793</td>\n",
       "      <td>7.539735</td>\n",
       "    </tr>\n",
       "    <tr>\n",
       "      <th>15</th>\n",
       "      <td>2004</td>\n",
       "      <td>31.506167</td>\n",
       "      <td>22.517128</td>\n",
       "      <td>8.788668</td>\n",
       "      <td>7.538220</td>\n",
       "    </tr>\n",
       "    <tr>\n",
       "      <th>16</th>\n",
       "      <td>2005</td>\n",
       "      <td>31.511802</td>\n",
       "      <td>22.502425</td>\n",
       "      <td>8.708344</td>\n",
       "      <td>7.543984</td>\n",
       "    </tr>\n",
       "    <tr>\n",
       "      <th>17</th>\n",
       "      <td>2006</td>\n",
       "      <td>31.809670</td>\n",
       "      <td>22.039808</td>\n",
       "      <td>5.104859</td>\n",
       "      <td>8.202818</td>\n",
       "    </tr>\n",
       "    <tr>\n",
       "      <th>18</th>\n",
       "      <td>2007</td>\n",
       "      <td>31.615185</td>\n",
       "      <td>22.413762</td>\n",
       "      <td>7.088506</td>\n",
       "      <td>8.081015</td>\n",
       "    </tr>\n",
       "    <tr>\n",
       "      <th>19</th>\n",
       "      <td>2008</td>\n",
       "      <td>31.631410</td>\n",
       "      <td>22.365450</td>\n",
       "      <td>6.795092</td>\n",
       "      <td>8.021880</td>\n",
       "    </tr>\n",
       "    <tr>\n",
       "      <th>20</th>\n",
       "      <td>2009</td>\n",
       "      <td>31.351886</td>\n",
       "      <td>22.815187</td>\n",
       "      <td>10.847668</td>\n",
       "      <td>7.267310</td>\n",
       "    </tr>\n",
       "    <tr>\n",
       "      <th>21</th>\n",
       "      <td>2010</td>\n",
       "      <td>31.362186</td>\n",
       "      <td>22.826143</td>\n",
       "      <td>10.743695</td>\n",
       "      <td>7.340374</td>\n",
       "    </tr>\n",
       "    <tr>\n",
       "      <th>22</th>\n",
       "      <td>2011</td>\n",
       "      <td>31.375816</td>\n",
       "      <td>22.816416</td>\n",
       "      <td>10.658041</td>\n",
       "      <td>7.438332</td>\n",
       "    </tr>\n",
       "    <tr>\n",
       "      <th>23</th>\n",
       "      <td>2012</td>\n",
       "      <td>31.380153</td>\n",
       "      <td>22.776569</td>\n",
       "      <td>10.577063</td>\n",
       "      <td>7.477092</td>\n",
       "    </tr>\n",
       "    <tr>\n",
       "      <th>24</th>\n",
       "      <td>2013</td>\n",
       "      <td>31.386151</td>\n",
       "      <td>22.741420</td>\n",
       "      <td>10.500087</td>\n",
       "      <td>7.508848</td>\n",
       "    </tr>\n",
       "    <tr>\n",
       "      <th>25</th>\n",
       "      <td>2014</td>\n",
       "      <td>31.397924</td>\n",
       "      <td>22.734311</td>\n",
       "      <td>10.426073</td>\n",
       "      <td>7.502359</td>\n",
       "    </tr>\n",
       "    <tr>\n",
       "      <th>26</th>\n",
       "      <td>2015</td>\n",
       "      <td>31.418219</td>\n",
       "      <td>22.727756</td>\n",
       "      <td>10.380699</td>\n",
       "      <td>7.483130</td>\n",
       "    </tr>\n",
       "    <tr>\n",
       "      <th>27</th>\n",
       "      <td>2016</td>\n",
       "      <td>31.422570</td>\n",
       "      <td>22.722423</td>\n",
       "      <td>10.313647</td>\n",
       "      <td>7.566087</td>\n",
       "    </tr>\n",
       "    <tr>\n",
       "      <th>28</th>\n",
       "      <td>2017</td>\n",
       "      <td>31.439665</td>\n",
       "      <td>22.719230</td>\n",
       "      <td>10.255283</td>\n",
       "      <td>7.549030</td>\n",
       "    </tr>\n",
       "    <tr>\n",
       "      <th>29</th>\n",
       "      <td>2018</td>\n",
       "      <td>31.562397</td>\n",
       "      <td>22.469245</td>\n",
       "      <td>8.379884</td>\n",
       "      <td>7.565709</td>\n",
       "    </tr>\n",
       "  </tbody>\n",
       "</table>\n",
       "</div>"
      ],
      "text/plain": [
       "    YEAR  MAXIMUM_TEMP  MINIMUM_TEMP  AVERAGE_WIND_SPEED  PRECIPITATION\n",
       "0   1988     31.460693     22.700719            4.590164       7.579264\n",
       "1   1989     31.464715     22.689713            4.408219       7.609810\n",
       "2   1990     31.463949     22.552641            7.481648       7.501702\n",
       "3   1991     31.634279     22.667731            4.175342       7.496590\n",
       "4   1992     31.467002     22.640557            7.167815       7.489201\n",
       "5   1993     31.469669     21.870588            9.597917       7.480943\n",
       "6   1995     31.470346     22.625078            9.515848       7.468431\n",
       "7   1996     31.476824     22.606068            9.397327       7.499902\n",
       "8   1997     32.542857     22.737662            6.644737       7.700000\n",
       "9   1998     31.552318     22.320668            6.273826       8.205868\n",
       "10  1999     31.890141     21.066901            3.161972       7.610000\n",
       "11  2000     31.564544     22.561207            8.293395       7.923186\n",
       "12  2001     31.484076     22.548342            9.040368       7.561833\n",
       "13  2002     31.490311     22.539741            8.953375       7.546101\n",
       "14  2003     31.499607     22.531091            8.867793       7.539735\n",
       "15  2004     31.506167     22.517128            8.788668       7.538220\n",
       "16  2005     31.511802     22.502425            8.708344       7.543984\n",
       "17  2006     31.809670     22.039808            5.104859       8.202818\n",
       "18  2007     31.615185     22.413762            7.088506       8.081015\n",
       "19  2008     31.631410     22.365450            6.795092       8.021880\n",
       "20  2009     31.351886     22.815187           10.847668       7.267310\n",
       "21  2010     31.362186     22.826143           10.743695       7.340374\n",
       "22  2011     31.375816     22.816416           10.658041       7.438332\n",
       "23  2012     31.380153     22.776569           10.577063       7.477092\n",
       "24  2013     31.386151     22.741420           10.500087       7.508848\n",
       "25  2014     31.397924     22.734311           10.426073       7.502359\n",
       "26  2015     31.418219     22.727756           10.380699       7.483130\n",
       "27  2016     31.422570     22.722423           10.313647       7.566087\n",
       "28  2017     31.439665     22.719230           10.255283       7.549030\n",
       "29  2018     31.562397     22.469245            8.379884       7.565709"
      ]
     },
     "execution_count": 149,
     "metadata": {},
     "output_type": "execute_result"
    }
   ],
   "source": [
    "df = pd.read_csv('Rainfall_data.csv')\n",
    "df"
   ]
  },
  {
   "cell_type": "code",
   "execution_count": 185,
   "metadata": {},
   "outputs": [
    {
     "ename": "SyntaxError",
     "evalue": "positional argument follows keyword argument (<ipython-input-185-423ac5c7ebaa>, line 5)",
     "output_type": "error",
     "traceback": [
      "\u001b[1;36m  File \u001b[1;32m\"<ipython-input-185-423ac5c7ebaa>\"\u001b[1;36m, line \u001b[1;32m5\u001b[0m\n\u001b[1;33m    plt.plot(df.YEAR,df.MAXIMUM_TEMP,label='Maximum Temperature','D-.')\u001b[0m\n\u001b[1;37m                                                                ^\u001b[0m\n\u001b[1;31mSyntaxError\u001b[0m\u001b[1;31m:\u001b[0m positional argument follows keyword argument\n"
     ]
    }
   ],
   "source": [
    "plt.figure(figsize=(9,5))\n",
    "plt.title('Average Maximum & Mininum Temperature (1988 to 2018)')\n",
    "plt.xlabel(' [ Years ]')\n",
    "plt.ylabel('[ Temperature in Celsius ]')\n",
    "plt.plot(df.YEAR,df.MAXIMUM_TEMP,label='Maximum Temperature',color='r')\n",
    "plt.plot(df.YEAR,df.MINIMUM_TEMP,label='Minimum Temperature', color='y')\n",
    "plt.legend(loc=5)\n",
    "plt.grid(color='gray', linestyle='-', linewidth=0.4)\n",
    "plt.savefig('Average Maximum & Mininum Temperature (1988 to 2018).png',transparant=True,b_boxinches='tight', dpi=350)"
   ]
  },
  {
   "cell_type": "code",
   "execution_count": 151,
   "metadata": {},
   "outputs": [
    {
     "data": {
      "image/png": "[encoded data removed]",
      "text/plain": [
       "<Figure size 648x360 with 1 Axes>"
      ]
     },
     "metadata": {
      "needs_background": "light"
     },
     "output_type": "display_data"
    }
   ],
   "source": [
    "plt.figure(figsize=(9,5))\n",
    "plt.title('Average Wind Speed (1988 to 2018)')\n",
    "plt.xlabel('[ Years ]')\n",
    "plt.ylabel('[ Velocity Meters Per Second (m/s) ]')\n",
    "plt.plot(df.YEAR,df.AVERAGE_WIND_SPEED,label='Wind Speed',color='b')\n",
    "plt.legend(loc=4)\n",
    "plt.grid(color='gray', linestyle='-', linewidth=0.4)\n",
    "plt.savefig('Average Wind Speed (1988 to 2018).png',transparant=True,b_boxinches='tight', dpi=350)"
   ]
  },
  {
   "cell_type": "code",
   "execution_count": 152,
   "metadata": {},
   "outputs": [
    {
     "data": {
      "image/png": "[encoded data removed]",
      "text/plain": [
       "<Figure size 648x360 with 1 Axes>"
      ]
     },
     "metadata": {
      "needs_background": "light"
     },
     "output_type": "display_data"
    }
   ],
   "source": [
    "plt.figure(figsize=(9,5))\n",
    "plt.title('Average Precipitation (1988 to 2018)')\n",
    "plt.xlabel('[ Years ]')\n",
    "plt.ylabel('[ In Millimetres (mm) ]')\n",
    "plt.plot(df.YEAR,df.PRECIPITATION,label='Precipitation',color='g')\n",
    "plt.legend(loc=1)\n",
    "plt.grid(color='gray', linestyle='-', linewidth=0.4)\n",
    "plt.savefig('Average Precipitation (1988 to 2018).png',transparant=True,b_boxinches='tight', dpi=350)"
   ]
  },
  {
   "cell_type": "markdown",
   "metadata": {},
   "source": [
    "# Model"
   ]
  },
  {
   "cell_type": "code",
   "execution_count": 153,
   "metadata": {},
   "outputs": [],
   "source": [
    "reg = linear_model.LinearRegression()"
   ]
  },
  {
   "cell_type": "markdown",
   "metadata": {},
   "source": [
    "# Equation for calculation of Climate Data"
   ]
  },
  {
   "cell_type": "markdown",
   "metadata": {},
   "source": [
    "# Max-Temp = M * Year + B"
   ]
  },
  {
   "cell_type": "markdown",
   "metadata": {},
   "source": [
    "M = reg.coef_\n",
    "\n",
    "Year = Year of Rainfall\n",
    "\n",
    "B = reg.intercept_"
   ]
  },
  {
   "cell_type": "code",
   "execution_count": 154,
   "metadata": {},
   "outputs": [
    {
     "data": {
      "text/html": [
       "<div>\n",
       "<style scoped>\n",
       "    .dataframe tbody tr th:only-of-type {\n",
       "        vertical-align: middle;\n",
       "    }\n",
       "\n",
       "    .dataframe tbody tr th {\n",
       "        vertical-align: top;\n",
       "    }\n",
       "\n",
       "    .dataframe thead th {\n",
       "        text-align: right;\n",
       "    }\n",
       "</style>\n",
       "<table border=\"1\" class=\"dataframe\">\n",
       "  <thead>\n",
       "    <tr style=\"text-align: right;\">\n",
       "      <th></th>\n",
       "      <th>YEAR</th>\n",
       "    </tr>\n",
       "  </thead>\n",
       "  <tbody>\n",
       "    <tr>\n",
       "      <th>0</th>\n",
       "      <td>2019</td>\n",
       "    </tr>\n",
       "    <tr>\n",
       "      <th>1</th>\n",
       "      <td>2020</td>\n",
       "    </tr>\n",
       "    <tr>\n",
       "      <th>2</th>\n",
       "      <td>2021</td>\n",
       "    </tr>\n",
       "    <tr>\n",
       "      <th>3</th>\n",
       "      <td>2022</td>\n",
       "    </tr>\n",
       "    <tr>\n",
       "      <th>4</th>\n",
       "      <td>2023</td>\n",
       "    </tr>\n",
       "  </tbody>\n",
       "</table>\n",
       "</div>"
      ],
      "text/plain": [
       "   YEAR\n",
       "0  2019\n",
       "1  2020\n",
       "2  2021\n",
       "3  2022\n",
       "4  2023"
      ]
     },
     "execution_count": 154,
     "metadata": {},
     "output_type": "execute_result"
    }
   ],
   "source": [
    "df1 = pd.read_csv('Year_to_predicted_rainfall.csv')\n",
    "df1.head()"
   ]
  },
  {
   "cell_type": "code",
   "execution_count": 155,
   "metadata": {},
   "outputs": [],
   "source": [
    "MAXIMUM_TEMP = reg.fit(df[['YEAR']],df.MAXIMUM_TEMP)\n",
    "Max_Temp = MAXIMUM_TEMP.predict(df1)"
   ]
  },
  {
   "cell_type": "code",
   "execution_count": 156,
   "metadata": {},
   "outputs": [
    {
     "data": {
      "text/plain": [
       "array([-0.00565973])"
      ]
     },
     "execution_count": 156,
     "metadata": {},
     "output_type": "execute_result"
    }
   ],
   "source": [
    "MAXIMUM_TEMP.coef_       #Coefficient of ---- M value   "
   ]
  },
  {
   "cell_type": "code",
   "execution_count": 157,
   "metadata": {},
   "outputs": [
    {
     "data": {
      "text/plain": [
       "42.87489510205234"
      ]
     },
     "execution_count": 157,
     "metadata": {},
     "output_type": "execute_result"
    }
   ],
   "source": [
    "MAXIMUM_TEMP.intercept_  #  intercept value ---- B value"
   ]
  },
  {
   "cell_type": "markdown",
   "metadata": {},
   "source": [
    "# Mini-Temp= M * Year + B"
   ]
  },
  {
   "cell_type": "markdown",
   "metadata": {},
   "source": [
    "M = reg.coef_\n",
    "\n",
    "#Year = Year of Rainfall\n",
    "\n",
    "#B = reg.intercept_"
   ]
  },
  {
   "cell_type": "code",
   "execution_count": 158,
   "metadata": {},
   "outputs": [],
   "source": [
    "MINIMUM_TEMP = reg.fit(df[['YEAR']],df.MINIMUM_TEMP)\n",
    "Min_Temp = MINIMUM_TEMP.predict(df1)"
   ]
  },
  {
   "cell_type": "code",
   "execution_count": 159,
   "metadata": {},
   "outputs": [
    {
     "data": {
      "text/plain": [
       "array([0.00805935])"
      ]
     },
     "execution_count": 159,
     "metadata": {},
     "output_type": "execute_result"
    }
   ],
   "source": [
    "MINIMUM_TEMP.coef_  "
   ]
  },
  {
   "cell_type": "code",
   "execution_count": 160,
   "metadata": {},
   "outputs": [
    {
     "data": {
      "text/plain": [
       "6.382906548486652"
      ]
     },
     "execution_count": 160,
     "metadata": {},
     "output_type": "execute_result"
    }
   ],
   "source": [
    "MINIMUM_TEMP.intercept_"
   ]
  },
  {
   "cell_type": "markdown",
   "metadata": {},
   "source": [
    "# Wind-Speed = M * Year + B"
   ]
  },
  {
   "cell_type": "code",
   "execution_count": 161,
   "metadata": {},
   "outputs": [],
   "source": [
    "AVERAGE_WIND_SPEED = reg.fit(df[['YEAR']],df.AVERAGE_WIND_SPEED)\n",
    "Avg_Wind_Speed = AVERAGE_WIND_SPEED.predict(df1)"
   ]
  },
  {
   "cell_type": "code",
   "execution_count": 162,
   "metadata": {},
   "outputs": [],
   "source": [
    "#M = reg.coef_\n",
    "\n",
    "#Year = Year of Rainfall\n",
    "\n",
    "#B = reg.intercept_"
   ]
  },
  {
   "cell_type": "code",
   "execution_count": 163,
   "metadata": {},
   "outputs": [
    {
     "data": {
      "text/plain": [
       "array([0.1534022])"
      ]
     },
     "execution_count": 163,
     "metadata": {},
     "output_type": "execute_result"
    }
   ],
   "source": [
    "AVERAGE_WIND_SPEED.coef_"
   ]
  },
  {
   "cell_type": "code",
   "execution_count": 164,
   "metadata": {},
   "outputs": [
    {
     "data": {
      "text/plain": [
       "array([0.1534022])"
      ]
     },
     "execution_count": 164,
     "metadata": {},
     "output_type": "execute_result"
    }
   ],
   "source": [
    "AVERAGE_WIND_SPEED.coef_"
   ]
  },
  {
   "cell_type": "code",
   "execution_count": 165,
   "metadata": {},
   "outputs": [
    {
     "data": {
      "text/plain": [
       "-299.0727063575003"
      ]
     },
     "execution_count": 165,
     "metadata": {},
     "output_type": "execute_result"
    }
   ],
   "source": [
    "AVERAGE_WIND_SPEED.intercept_"
   ]
  },
  {
   "cell_type": "markdown",
   "metadata": {},
   "source": [
    "# Precipitation = M * Year + B"
   ]
  },
  {
   "cell_type": "code",
   "execution_count": 166,
   "metadata": {},
   "outputs": [],
   "source": [
    "Pre_PRECIPITATION = reg.fit(df[['YEAR']],df.PRECIPITATION)\n",
    "Precipitation = Pre_PRECIPITATION.predict(df1)"
   ]
  },
  {
   "cell_type": "code",
   "execution_count": 167,
   "metadata": {},
   "outputs": [],
   "source": [
    "#M = reg.coef_\n",
    "\n",
    "#Year = Year of Rainfall\n",
    "\n",
    "#B = reg.intercept_"
   ]
  },
  {
   "cell_type": "code",
   "execution_count": 168,
   "metadata": {},
   "outputs": [
    {
     "data": {
      "text/plain": [
       "array([-0.00139588])"
      ]
     },
     "execution_count": 168,
     "metadata": {},
     "output_type": "execute_result"
    }
   ],
   "source": [
    "Pre_PRECIPITATION.coef_"
   ]
  },
  {
   "cell_type": "code",
   "execution_count": 169,
   "metadata": {},
   "outputs": [
    {
     "data": {
      "text/plain": [
       "10.406327665012837"
      ]
     },
     "execution_count": 169,
     "metadata": {},
     "output_type": "execute_result"
    }
   ],
   "source": [
    "Pre_PRECIPITATION.intercept_"
   ]
  },
  {
   "cell_type": "code",
   "execution_count": 170,
   "metadata": {},
   "outputs": [],
   "source": [
    "df1['Pre_MAXIMUM_TEMP'] = Max_Temp"
   ]
  },
  {
   "cell_type": "code",
   "execution_count": 171,
   "metadata": {},
   "outputs": [],
   "source": [
    "df1['Pre_MINIMUM_TEMP'] = Min_Temp"
   ]
  },
  {
   "cell_type": "code",
   "execution_count": 172,
   "metadata": {},
   "outputs": [],
   "source": [
    "df1['Pre_Avg_Wind_Speed'] = Avg_Wind_Speed"
   ]
  },
  {
   "cell_type": "code",
   "execution_count": 173,
   "metadata": {},
   "outputs": [],
   "source": [
    "df1['Pre_Precipitation'] = Precipitation"
   ]
  },
  {
   "cell_type": "code",
   "execution_count": 174,
   "metadata": {},
   "outputs": [
    {
     "data": {
      "text/html": [
       "<div>\n",
       "<style scoped>\n",
       "    .dataframe tbody tr th:only-of-type {\n",
       "        vertical-align: middle;\n",
       "    }\n",
       "\n",
       "    .dataframe tbody tr th {\n",
       "        vertical-align: top;\n",
       "    }\n",
       "\n",
       "    .dataframe thead th {\n",
       "        text-align: right;\n",
       "    }\n",
       "</style>\n",
       "<table border=\"1\" class=\"dataframe\">\n",
       "  <thead>\n",
       "    <tr style=\"text-align: right;\">\n",
       "      <th></th>\n",
       "      <th>YEAR</th>\n",
       "      <th>Pre_MAXIMUM_TEMP</th>\n",
       "      <th>Pre_MINIMUM_TEMP</th>\n",
       "      <th>Pre_Avg_Wind_Speed</th>\n",
       "      <th>Pre_Precipitation</th>\n",
       "    </tr>\n",
       "  </thead>\n",
       "  <tbody>\n",
       "    <tr>\n",
       "      <th>0</th>\n",
       "      <td>2019</td>\n",
       "      <td>31.447893</td>\n",
       "      <td>22.654731</td>\n",
       "      <td>10.646326</td>\n",
       "      <td>7.588043</td>\n",
       "    </tr>\n",
       "    <tr>\n",
       "      <th>1</th>\n",
       "      <td>2020</td>\n",
       "      <td>31.442233</td>\n",
       "      <td>22.662790</td>\n",
       "      <td>10.799729</td>\n",
       "      <td>7.586647</td>\n",
       "    </tr>\n",
       "    <tr>\n",
       "      <th>2</th>\n",
       "      <td>2021</td>\n",
       "      <td>31.436574</td>\n",
       "      <td>22.670850</td>\n",
       "      <td>10.953131</td>\n",
       "      <td>7.585251</td>\n",
       "    </tr>\n",
       "    <tr>\n",
       "      <th>3</th>\n",
       "      <td>2022</td>\n",
       "      <td>31.430914</td>\n",
       "      <td>22.678909</td>\n",
       "      <td>11.106533</td>\n",
       "      <td>7.583855</td>\n",
       "    </tr>\n",
       "    <tr>\n",
       "      <th>4</th>\n",
       "      <td>2023</td>\n",
       "      <td>31.425254</td>\n",
       "      <td>22.686968</td>\n",
       "      <td>11.259935</td>\n",
       "      <td>7.582460</td>\n",
       "    </tr>\n",
       "    <tr>\n",
       "      <th>5</th>\n",
       "      <td>2024</td>\n",
       "      <td>31.419595</td>\n",
       "      <td>22.695028</td>\n",
       "      <td>11.413337</td>\n",
       "      <td>7.581064</td>\n",
       "    </tr>\n",
       "    <tr>\n",
       "      <th>6</th>\n",
       "      <td>2025</td>\n",
       "      <td>31.413935</td>\n",
       "      <td>22.703087</td>\n",
       "      <td>11.566740</td>\n",
       "      <td>7.579668</td>\n",
       "    </tr>\n",
       "    <tr>\n",
       "      <th>7</th>\n",
       "      <td>2026</td>\n",
       "      <td>31.408275</td>\n",
       "      <td>22.711146</td>\n",
       "      <td>11.720142</td>\n",
       "      <td>7.578272</td>\n",
       "    </tr>\n",
       "    <tr>\n",
       "      <th>8</th>\n",
       "      <td>2027</td>\n",
       "      <td>31.402615</td>\n",
       "      <td>22.719206</td>\n",
       "      <td>11.873544</td>\n",
       "      <td>7.576876</td>\n",
       "    </tr>\n",
       "    <tr>\n",
       "      <th>9</th>\n",
       "      <td>2028</td>\n",
       "      <td>31.396956</td>\n",
       "      <td>22.727265</td>\n",
       "      <td>12.026946</td>\n",
       "      <td>7.575480</td>\n",
       "    </tr>\n",
       "    <tr>\n",
       "      <th>10</th>\n",
       "      <td>2030</td>\n",
       "      <td>31.385636</td>\n",
       "      <td>22.743384</td>\n",
       "      <td>12.333751</td>\n",
       "      <td>7.572688</td>\n",
       "    </tr>\n",
       "    <tr>\n",
       "      <th>11</th>\n",
       "      <td>2031</td>\n",
       "      <td>31.379976</td>\n",
       "      <td>22.751443</td>\n",
       "      <td>12.487153</td>\n",
       "      <td>7.571293</td>\n",
       "    </tr>\n",
       "    <tr>\n",
       "      <th>12</th>\n",
       "      <td>2032</td>\n",
       "      <td>31.374317</td>\n",
       "      <td>22.759503</td>\n",
       "      <td>12.640555</td>\n",
       "      <td>7.569897</td>\n",
       "    </tr>\n",
       "    <tr>\n",
       "      <th>13</th>\n",
       "      <td>2033</td>\n",
       "      <td>31.368657</td>\n",
       "      <td>22.767562</td>\n",
       "      <td>12.793957</td>\n",
       "      <td>7.568501</td>\n",
       "    </tr>\n",
       "    <tr>\n",
       "      <th>14</th>\n",
       "      <td>2034</td>\n",
       "      <td>31.362997</td>\n",
       "      <td>22.775621</td>\n",
       "      <td>12.947359</td>\n",
       "      <td>7.567105</td>\n",
       "    </tr>\n",
       "    <tr>\n",
       "      <th>15</th>\n",
       "      <td>2035</td>\n",
       "      <td>31.357337</td>\n",
       "      <td>22.783681</td>\n",
       "      <td>13.100762</td>\n",
       "      <td>7.565709</td>\n",
       "    </tr>\n",
       "    <tr>\n",
       "      <th>16</th>\n",
       "      <td>2036</td>\n",
       "      <td>31.351678</td>\n",
       "      <td>22.791740</td>\n",
       "      <td>13.254164</td>\n",
       "      <td>7.564313</td>\n",
       "    </tr>\n",
       "    <tr>\n",
       "      <th>17</th>\n",
       "      <td>2037</td>\n",
       "      <td>31.346018</td>\n",
       "      <td>22.799799</td>\n",
       "      <td>13.407566</td>\n",
       "      <td>7.562917</td>\n",
       "    </tr>\n",
       "    <tr>\n",
       "      <th>18</th>\n",
       "      <td>2038</td>\n",
       "      <td>31.340358</td>\n",
       "      <td>22.807859</td>\n",
       "      <td>13.560968</td>\n",
       "      <td>7.561521</td>\n",
       "    </tr>\n",
       "    <tr>\n",
       "      <th>19</th>\n",
       "      <td>2039</td>\n",
       "      <td>31.334699</td>\n",
       "      <td>22.815918</td>\n",
       "      <td>13.714370</td>\n",
       "      <td>7.560126</td>\n",
       "    </tr>\n",
       "    <tr>\n",
       "      <th>20</th>\n",
       "      <td>2040</td>\n",
       "      <td>31.329039</td>\n",
       "      <td>22.823977</td>\n",
       "      <td>13.867772</td>\n",
       "      <td>7.558730</td>\n",
       "    </tr>\n",
       "    <tr>\n",
       "      <th>21</th>\n",
       "      <td>2041</td>\n",
       "      <td>31.323379</td>\n",
       "      <td>22.832037</td>\n",
       "      <td>14.021175</td>\n",
       "      <td>7.557334</td>\n",
       "    </tr>\n",
       "    <tr>\n",
       "      <th>22</th>\n",
       "      <td>2042</td>\n",
       "      <td>31.317719</td>\n",
       "      <td>22.840096</td>\n",
       "      <td>14.174577</td>\n",
       "      <td>7.555938</td>\n",
       "    </tr>\n",
       "    <tr>\n",
       "      <th>23</th>\n",
       "      <td>2043</td>\n",
       "      <td>31.312060</td>\n",
       "      <td>22.848155</td>\n",
       "      <td>14.327979</td>\n",
       "      <td>7.554542</td>\n",
       "    </tr>\n",
       "    <tr>\n",
       "      <th>24</th>\n",
       "      <td>2044</td>\n",
       "      <td>31.306400</td>\n",
       "      <td>22.856215</td>\n",
       "      <td>14.481381</td>\n",
       "      <td>7.553146</td>\n",
       "    </tr>\n",
       "    <tr>\n",
       "      <th>25</th>\n",
       "      <td>2046</td>\n",
       "      <td>31.295080</td>\n",
       "      <td>22.872333</td>\n",
       "      <td>14.788186</td>\n",
       "      <td>7.550354</td>\n",
       "    </tr>\n",
       "    <tr>\n",
       "      <th>26</th>\n",
       "      <td>2047</td>\n",
       "      <td>31.289421</td>\n",
       "      <td>22.880393</td>\n",
       "      <td>14.941588</td>\n",
       "      <td>7.548958</td>\n",
       "    </tr>\n",
       "    <tr>\n",
       "      <th>27</th>\n",
       "      <td>2048</td>\n",
       "      <td>31.283761</td>\n",
       "      <td>22.888452</td>\n",
       "      <td>15.094990</td>\n",
       "      <td>7.547563</td>\n",
       "    </tr>\n",
       "    <tr>\n",
       "      <th>28</th>\n",
       "      <td>2049</td>\n",
       "      <td>31.278101</td>\n",
       "      <td>22.896511</td>\n",
       "      <td>15.248392</td>\n",
       "      <td>7.546167</td>\n",
       "    </tr>\n",
       "    <tr>\n",
       "      <th>29</th>\n",
       "      <td>2050</td>\n",
       "      <td>31.272441</td>\n",
       "      <td>22.904571</td>\n",
       "      <td>15.401794</td>\n",
       "      <td>7.544771</td>\n",
       "    </tr>\n",
       "  </tbody>\n",
       "</table>\n",
       "</div>"
      ],
      "text/plain": [
       "    YEAR  Pre_MAXIMUM_TEMP  Pre_MINIMUM_TEMP  Pre_Avg_Wind_Speed  \\\n",
       "0   2019         31.447893         22.654731           10.646326   \n",
       "1   2020         31.442233         22.662790           10.799729   \n",
       "2   2021         31.436574         22.670850           10.953131   \n",
       "3   2022         31.430914         22.678909           11.106533   \n",
       "4   2023         31.425254         22.686968           11.259935   \n",
       "5   2024         31.419595         22.695028           11.413337   \n",
       "6   2025         31.413935         22.703087           11.566740   \n",
       "7   2026         31.408275         22.711146           11.720142   \n",
       "8   2027         31.402615         22.719206           11.873544   \n",
       "9   2028         31.396956         22.727265           12.026946   \n",
       "10  2030         31.385636         22.743384           12.333751   \n",
       "11  2031         31.379976         22.751443           12.487153   \n",
       "12  2032         31.374317         22.759503           12.640555   \n",
       "13  2033         31.368657         22.767562           12.793957   \n",
       "14  2034         31.362997         22.775621           12.947359   \n",
       "15  2035         31.357337         22.783681           13.100762   \n",
       "16  2036         31.351678         22.791740           13.254164   \n",
       "17  2037         31.346018         22.799799           13.407566   \n",
       "18  2038         31.340358         22.807859           13.560968   \n",
       "19  2039         31.334699         22.815918           13.714370   \n",
       "20  2040         31.329039         22.823977           13.867772   \n",
       "21  2041         31.323379         22.832037           14.021175   \n",
       "22  2042         31.317719         22.840096           14.174577   \n",
       "23  2043         31.312060         22.848155           14.327979   \n",
       "24  2044         31.306400         22.856215           14.481381   \n",
       "25  2046         31.295080         22.872333           14.788186   \n",
       "26  2047         31.289421         22.880393           14.941588   \n",
       "27  2048         31.283761         22.888452           15.094990   \n",
       "28  2049         31.278101         22.896511           15.248392   \n",
       "29  2050         31.272441         22.904571           15.401794   \n",
       "\n",
       "    Pre_Precipitation  \n",
       "0            7.588043  \n",
       "1            7.586647  \n",
       "2            7.585251  \n",
       "3            7.583855  \n",
       "4            7.582460  \n",
       "5            7.581064  \n",
       "6            7.579668  \n",
       "7            7.578272  \n",
       "8            7.576876  \n",
       "9            7.575480  \n",
       "10           7.572688  \n",
       "11           7.571293  \n",
       "12           7.569897  \n",
       "13           7.568501  \n",
       "14           7.567105  \n",
       "15           7.565709  \n",
       "16           7.564313  \n",
       "17           7.562917  \n",
       "18           7.561521  \n",
       "19           7.560126  \n",
       "20           7.558730  \n",
       "21           7.557334  \n",
       "22           7.555938  \n",
       "23           7.554542  \n",
       "24           7.553146  \n",
       "25           7.550354  \n",
       "26           7.548958  \n",
       "27           7.547563  \n",
       "28           7.546167  \n",
       "29           7.544771  "
      ]
     },
     "execution_count": 174,
     "metadata": {},
     "output_type": "execute_result"
    }
   ],
   "source": [
    "df1   #Predicted Rainfall Using Single Variable linear Regression"
   ]
  },
  {
   "cell_type": "code",
   "execution_count": 175,
   "metadata": {},
   "outputs": [
    {
     "data": {
      "image/png": "[encoded data removed]",
      "text/plain": [
       "<Figure size 648x360 with 1 Axes>"
      ]
     },
     "metadata": {
      "needs_background": "light"
     },
     "output_type": "display_data"
    }
   ],
   "source": [
    "plt.figure(figsize=(9,5))\n",
    "plt.title('Prediction of Average Maximum & Minimum Temperature (Next 30 year)')\n",
    "plt.xlabel('Years')\n",
    "plt.ylabel('Temperature in Celsius')\n",
    "plt.plot(df.YEAR,df.MAXIMUM_TEMP,label='Maximum Temperature',color='r')\n",
    "plt.plot(df.YEAR,df.MINIMUM_TEMP,label='Minimum Temperature',color='y') \n",
    "plt.plot(df1.YEAR,df1.Pre_MAXIMUM_TEMP,'--',label='Predicted Maximum Temperature',color='r')\n",
    "plt.plot(df1.YEAR,df1.Pre_MINIMUM_TEMP,'--', label='Predicted Minimum Temperature',color='y')\n",
    "plt.legend()\n",
    "plt.grid(color='gray', linestyle='-', linewidth=0.4)\n",
    "plt.savefig('Prediction of Average Maximum & Minimum Temperature (Next 30 year).png',transparant=True,b_boxinches='tight', dpi=350)"
   ]
  },
  {
   "cell_type": "code",
   "execution_count": 176,
   "metadata": {},
   "outputs": [
    {
     "data": {
      "image/png": "[encoded data removed]",
      "text/plain": [
       "<Figure size 648x360 with 1 Axes>"
      ]
     },
     "metadata": {
      "needs_background": "light"
     },
     "output_type": "display_data"
    }
   ],
   "source": [
    "plt.figure(figsize=(9,5))\n",
    "plt.title('Prediction of Average Wind Speed (Next 30 year) ')\n",
    "plt.xlabel('[ Years ]')\n",
    "plt.ylabel(' [ Velocity Meters Per Second (m/s)  ]')\n",
    "plt.plot(df.YEAR,df.AVERAGE_WIND_SPEED,label='Wind Speed',color='b')\n",
    "plt.plot(df1.YEAR,df1.Pre_Avg_Wind_Speed,'--g',label='Predicted Wind Speed',color='b')\n",
    "plt.legend(loc=4)\n",
    "plt.grid(color='gray', linestyle='-', linewidth=0.4)\n",
    "plt.savefig('Prediction of Average Wind Speed (Next 30 year).png',transparant=True,b_boxinches='tight', dpi=350)"
   ]
  },
  {
   "cell_type": "code",
   "execution_count": 177,
   "metadata": {},
   "outputs": [
    {
     "data": {
      "image/png": "[encoded data removed]",
      "text/plain": [
       "<Figure size 648x360 with 1 Axes>"
      ]
     },
     "metadata": {
      "needs_background": "light"
     },
     "output_type": "display_data"
    }
   ],
   "source": [
    "plt.figure(figsize=(9,5))\n",
    "plt.title('Prediction of Average Precipitation (Next 30 year) ')\n",
    "plt.xlabel('Years')\n",
    "plt.ylabel('[ In Millimetres (mm) ]')\n",
    "plt.plot(df.YEAR,df.PRECIPITATION,label='Precipitation',color='g')\n",
    "plt.plot(df1.YEAR,df1.Pre_Precipitation,'--r',label='Predicted Precipitation',color='g')\n",
    "plt.legend(loc=1)\n",
    "plt.grid(color='gray', linestyle='-', linewidth=0.4)\n",
    "plt.savefig('Prediction of Average Precipitation (Next 30 year).png',transparant=True,b_boxinches='tight', dpi=350)"
   ]
  },
  {
   "cell_type": "code",
   "execution_count": 178,
   "metadata": {},
   "outputs": [
    {
     "data": {
      "image/png": "[encoded data removed]",
      "text/plain": [
       "<Figure size 648x360 with 1 Axes>"
      ]
     },
     "metadata": {
      "needs_background": "light"
     },
     "output_type": "display_data"
    }
   ],
   "source": [
    "plt.figure(figsize=(9,5))\n",
    "plt.title('Prediction of Average Climate (Next 30 year) ')\n",
    "plt.xlabel('[ Years ]')\n",
    "plt.ylabel('')\n",
    "plt.plot(df1.YEAR,df1.Pre_Precipitation,'--',label='',color='g')\n",
    "plt.plot(df1.YEAR,df1.Pre_Avg_Wind_Speed,'--',label='',color='b')\n",
    "plt.plot(df1.YEAR,df1.Pre_MAXIMUM_TEMP,'--',label='',color='r')\n",
    "plt.plot(df1.YEAR,df1.Pre_MINIMUM_TEMP,'--', label='',color='y')\n",
    "plt.plot(df.YEAR,df.MAXIMUM_TEMP,label='Maximum Temperature',color='r')\n",
    "plt.plot(df.YEAR,df.MINIMUM_TEMP,label='Minimum Temperature',color='y') \n",
    "plt.plot(df.YEAR,df.AVERAGE_WIND_SPEED,label='Wind Speed',color='b')\n",
    "plt.plot(df.YEAR,df.PRECIPITATION,label='Precipitation',color='g')\n",
    "plt.legend(loc=6)\n",
    "plt.grid(color='gray', linestyle='-', linewidth=0.4)\n",
    "plt.savefig('Prediction of Average Climate (Next 30 year).png',transparant=True,b_boxinches='tight', dpi=350)"
   ]
  }
 ],
 "metadata": {
  "kernelspec": {
   "display_name": "Python 3",
   "language": "python",
   "name": "python3"
  },
  "language_info": {
   "codemirror_mode": {
    "name": "ipython",
    "version": 3
   },
   "file_extension": ".py",
   "mimetype": "text/x-python",
   "name": "python",
   "nbconvert_exporter": "python",
   "pygments_lexer": "ipython3",
   "version": "3.7.6"
  }
 },
 "nbformat": 4,
 "nbformat_minor": 4
}
